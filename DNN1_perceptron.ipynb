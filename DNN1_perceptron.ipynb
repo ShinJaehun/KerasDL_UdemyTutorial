{
 "cells": [
  {
   "cell_type": "code",
   "execution_count": 6,
   "id": "41206876",
   "metadata": {},
   "outputs": [],
   "source": [
    "import matplotlib.pyplot as plt\n",
    "import numpy as np\n",
    "from keras.layers import *\n",
    "from keras.models import *\n",
    "from keras.utils import *\n",
    "from collections import Counter"
   ]
  },
  {
   "cell_type": "code",
   "execution_count": 15,
   "id": "df49d58c",
   "metadata": {},
   "outputs": [
    {
     "name": "stdout",
     "output_type": "stream",
     "text": [
      "Model: \"sequential_7\"\n",
      "_________________________________________________________________\n",
      " Layer (type)                Output Shape              Param #   \n",
      "=================================================================\n",
      " dense_7 (Dense)             (None, 1)                 2         \n",
      "                                                                 \n",
      "=================================================================\n",
      "Total params: 2\n",
      "Trainable params: 2\n",
      "Non-trainable params: 0\n",
      "_________________________________________________________________\n",
      "Epoch 1/20\n",
      "32/32 [==============================] - 0s 2ms/step - loss: 15.4637\n",
      "Epoch 2/20\n",
      "32/32 [==============================] - 0s 2ms/step - loss: 0.0291\n",
      "Epoch 3/20\n",
      "32/32 [==============================] - 0s 2ms/step - loss: 0.0231\n",
      "Epoch 4/20\n",
      "32/32 [==============================] - 0s 2ms/step - loss: 0.0183\n",
      "Epoch 5/20\n",
      "32/32 [==============================] - 0s 2ms/step - loss: 0.0146\n",
      "Epoch 6/20\n",
      "32/32 [==============================] - 0s 2ms/step - loss: 0.0115\n",
      "Epoch 7/20\n",
      "32/32 [==============================] - 0s 2ms/step - loss: 0.0092\n",
      "Epoch 8/20\n",
      "32/32 [==============================] - 0s 2ms/step - loss: 0.0073\n",
      "Epoch 9/20\n",
      "32/32 [==============================] - 0s 2ms/step - loss: 0.0058\n",
      "Epoch 10/20\n",
      "32/32 [==============================] - 0s 2ms/step - loss: 0.0046\n",
      "Epoch 11/20\n",
      "32/32 [==============================] - 0s 2ms/step - loss: 0.0036\n",
      "Epoch 12/20\n",
      "32/32 [==============================] - 0s 2ms/step - loss: 0.0029\n",
      "Epoch 13/20\n",
      "32/32 [==============================] - 0s 2ms/step - loss: 0.0023\n",
      "Epoch 14/20\n",
      "32/32 [==============================] - 0s 2ms/step - loss: 0.0018\n",
      "Epoch 15/20\n",
      "32/32 [==============================] - 0s 2ms/step - loss: 0.0014\n",
      "Epoch 16/20\n",
      "32/32 [==============================] - 0s 2ms/step - loss: 0.0011\n",
      "Epoch 17/20\n",
      "32/32 [==============================] - 0s 2ms/step - loss: 9.2695e-04\n",
      "Epoch 18/20\n",
      "32/32 [==============================] - 0s 2ms/step - loss: 7.2476e-04\n",
      "Epoch 19/20\n",
      "32/32 [==============================] - 0s 2ms/step - loss: 5.8262e-04\n",
      "Epoch 20/20\n",
      "32/32 [==============================] - 0s 2ms/step - loss: 4.5785e-04\n",
      "1/1 [==============================] - 0s 47ms/step\n",
      "[[25.032585]\n",
      " [29.045847]]\n"
     ]
    },
    {
     "data": {
      "image/png": "[encoded data removed]",
      "text/plain": [
       "<Figure size 432x288 with 1 Axes>"
      ]
     },
     "metadata": {
      "needs_background": "light"
     },
     "output_type": "display_data"
    },
    {
     "name": "stdout",
     "output_type": "stream",
     "text": [
      "[array([[2.006631]], dtype=float32), array([0.95301354], dtype=float32)]\n"
     ]
    }
   ],
   "source": [
    "# x, y 값 생성(입력이 너무 적으면 안돼!)\n",
    "x = np.linspace(1, 10, 1000)\n",
    "y = 2 * x + 1 # w는 2, b는 1\n",
    "\n",
    "# nn sequential 모델 생성\n",
    "model = Sequential()\n",
    "# hidden layer 하나 추가, Dense는 fully connected layer\n",
    "# 1은 다음 nn의 숫자이자 output 개수\n",
    "# input_shape에 input feature\n",
    "model.add(Dense(1, activation='linear', input_shape=(1,)))\n",
    "#model.summary() # params은 2(w와 b)\n",
    "\n",
    "# error function과 optimizer 지정\n",
    "model.compile(loss='mse', optimizer='sgd')\n",
    "# 학습\n",
    "model.fit(x, y, epochs=20)\n",
    "\n",
    "# plt.plot(x,y)\n",
    "# plt.show()\n",
    "\n",
    "# prediction\n",
    "pred_x = []\n",
    "pred_x = np.append(pred_x, 12)\n",
    "pred_x = np.append(pred_x, 14)\n",
    "pred_y = model.predict(pred_x)\n",
    "\n",
    "print(pred_y)\n",
    "\n",
    "# plotting\n",
    "plt.plot(x,y)\n",
    "plt.scatter(pred_x, pred_y)\n",
    "plt.show()\n",
    "\n",
    "print(model.get_weights())\n",
    "# [array([[2.006631]], dtype=float32), array([0.95301354], dtype=float32)] \n",
    "# w는 2, b는 1에 가까움!"
   ]
  },
  {
   "cell_type": "code",
   "execution_count": null,
   "id": "67580b6d",
   "metadata": {},
   "outputs": [],
   "source": []
  }
 ],
 "metadata": {
  "kernelspec": {
   "display_name": "Python 3 (ipykernel)",
   "language": "python",
   "name": "python3"
  },
  "language_info": {
   "codemirror_mode": {
    "name": "ipython",
    "version": 3
   },
   "file_extension": ".py",
   "mimetype": "text/x-python",
   "name": "python",
   "nbconvert_exporter": "python",
   "pygments_lexer": "ipython3",
   "version": "3.8.10"
  }
 },
 "nbformat": 4,
 "nbformat_minor": 5
}
