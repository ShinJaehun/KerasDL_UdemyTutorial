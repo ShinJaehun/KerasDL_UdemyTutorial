{
 "cells": [
  {
   "cell_type": "code",
   "execution_count": 1,
   "id": "68c13424",
   "metadata": {},
   "outputs": [
    {
     "name": "stderr",
     "output_type": "stream",
     "text": [
      "2023-02-23 14:32:30.534629: W tensorflow/stream_executor/platform/default/dso_loader.cc:64] Could not load dynamic library 'libcudart.so.11.0'; dlerror: libcudart.so.11.0: cannot open shared object file: No such file or directory\n",
      "2023-02-23 14:32:30.534667: I tensorflow/stream_executor/cuda/cudart_stub.cc:29] Ignore above cudart dlerror if you do not have a GPU set up on your machine.\n",
      "2023-02-23 14:32:30.570822: E tensorflow/stream_executor/cuda/cuda_blas.cc:2981] Unable to register cuBLAS factory: Attempting to register factory for plugin cuBLAS when one has already been registered\n",
      "2023-02-23 14:32:31.505147: W tensorflow/stream_executor/platform/default/dso_loader.cc:64] Could not load dynamic library 'libnvinfer.so.7'; dlerror: libnvinfer.so.7: cannot open shared object file: No such file or directory\n",
      "2023-02-23 14:32:31.505235: W tensorflow/stream_executor/platform/default/dso_loader.cc:64] Could not load dynamic library 'libnvinfer_plugin.so.7'; dlerror: libnvinfer_plugin.so.7: cannot open shared object file: No such file or directory\n",
      "2023-02-23 14:32:31.505248: W tensorflow/compiler/tf2tensorrt/utils/py_utils.cc:38] TF-TRT Warning: Cannot dlopen some TensorRT libraries. If you would like to use Nvidia GPU with TensorRT, please make sure the missing libraries mentioned above are installed properly.\n"
     ]
    }
   ],
   "source": [
    "%matplotlib inline\n",
    "import matplotlib.pyplot as plt\n",
    "import numpy as np\n",
    "import pandas as pd\n",
    "import math\n",
    "\n",
    "from keras.utils.np_utils import to_categorical\n",
    "from keras.models import Sequential, load_model, Model\n",
    "\n",
    "from keras.layers import Dense, Dropout, Flatten, Conv2D, MaxPool2D\n"
   ]
  },
  {
   "cell_type": "code",
   "execution_count": 2,
   "id": "4f62b1fa",
   "metadata": {},
   "outputs": [
    {
     "data": {
      "text/plain": [
       "(10000, 28, 28)"
      ]
     },
     "execution_count": 2,
     "metadata": {},
     "output_type": "execute_result"
    }
   ],
   "source": [
    "from keras.datasets import mnist\n",
    "\n",
    "(X_train, y_train), (X_test, y_test) = mnist.load_data()\n",
    "# X_train.shape # (60000, 28, 28)\n",
    "X_test.shape #(10000, 28, 28)\n"
   ]
  },
  {
   "cell_type": "code",
   "execution_count": 3,
   "id": "d0f3d0bd",
   "metadata": {},
   "outputs": [
    {
     "data": {
      "text/plain": [
       "5"
      ]
     },
     "execution_count": 3,
     "metadata": {},
     "output_type": "execute_result"
    },
    {
     "data": {
      "image/png": "[encoded data removed]",
      "text/plain": [
       "<Figure size 432x288 with 1 Axes>"
      ]
     },
     "metadata": {
      "needs_background": "light"
     },
     "output_type": "display_data"
    }
   ],
   "source": [
    "plt.imshow(X_train[0], cmap='binary')\n",
    "y_train[0]"
   ]
  },
  {
   "cell_type": "code",
   "execution_count": 4,
   "id": "d050e149",
   "metadata": {},
   "outputs": [],
   "source": [
    "# (60000, 28, 28)\n",
    "# (60000, 28, 28, 1) 형태로 만들어야 한다고???\n",
    "\n",
    "# (x, y, 1) grayscale\n",
    "# (x, y, 3) color\n",
    "\n",
    "# X_train = X_train.reshape(60000, 28, 28, 1)\n",
    "X_train = X_train.reshape(-1, 28, 28, 1) # 입력 값은 니가 알아서...\n",
    "X_test = X_test.reshape(-1, 28, 28, 1)\n",
    "\n",
    "y_train = to_categorical(y_train)\n",
    "y_test = to_categorical(y_test)\n",
    "\n",
    "X_train = X_train / 255.0 # scale\n",
    "X_test = X_test / 255.0 # scale\n"
   ]
  },
  {
   "cell_type": "code",
   "execution_count": 5,
   "id": "223bb40c",
   "metadata": {},
   "outputs": [
    {
     "name": "stdout",
     "output_type": "stream",
     "text": [
      "Model: \"sequential\"\n",
      "_________________________________________________________________\n",
      " Layer (type)                Output Shape              Param #   \n",
      "=================================================================\n",
      " conv2d (Conv2D)             (None, 24, 24, 16)        416       \n",
      "                                                                 \n",
      " max_pooling2d (MaxPooling2D  (None, 12, 12, 16)       0         \n",
      " )                                                               \n",
      "                                                                 \n",
      " conv2d_1 (Conv2D)           (None, 8, 8, 36)          14436     \n",
      "                                                                 \n",
      " flatten (Flatten)           (None, 2304)              0         \n",
      "                                                                 \n",
      " dense (Dense)               (None, 128)               295040    \n",
      "                                                                 \n",
      " dense_1 (Dense)             (None, 10)                1290      \n",
      "                                                                 \n",
      "=================================================================\n",
      "Total params: 311,182\n",
      "Trainable params: 311,182\n",
      "Non-trainable params: 0\n",
      "_________________________________________________________________\n"
     ]
    },
    {
     "name": "stderr",
     "output_type": "stream",
     "text": [
      "2023-02-23 14:32:34.430887: W tensorflow/stream_executor/platform/default/dso_loader.cc:64] Could not load dynamic library 'libcuda.so.1'; dlerror: libcuda.so.1: cannot open shared object file: No such file or directory\n",
      "2023-02-23 14:32:34.430919: W tensorflow/stream_executor/cuda/cuda_driver.cc:263] failed call to cuInit: UNKNOWN ERROR (303)\n",
      "2023-02-23 14:32:34.430942: I tensorflow/stream_executor/cuda/cuda_diagnostics.cc:156] kernel driver does not appear to be running on this host (master): /proc/driver/nvidia/version does not exist\n"
     ]
    }
   ],
   "source": [
    "model = Sequential()\n",
    "model.add(Conv2D(filters=16, kernel_size=(5,5), padding='valid', strides=1, activation='relu', input_shape=(28,28,1,)))\n",
    "model.add(MaxPool2D(pool_size=(2,2)))\n",
    "model.add(Conv2D(filters=36, kernel_size=(5,5), padding='valid', strides=1, activation='relu'))\n",
    "model.add(Flatten())\n",
    "model.add(Dense(128, activation='relu'))\n",
    "model.add(Dense(10, activation='softmax'))\n",
    "model.summary()\n",
    "\n",
    "model.compile(loss='categorical_crossentropy', optimizer='adam', metrics=['accuracy'])"
   ]
  },
  {
   "cell_type": "code",
   "execution_count": 6,
   "id": "6fa4ee35",
   "metadata": {},
   "outputs": [
    {
     "name": "stdout",
     "output_type": "stream",
     "text": [
      "240/240 [==============================] - 19s 78ms/step - loss: 0.2688 - accuracy: 0.9241 - val_loss: 0.0819 - val_accuracy: 0.9772\n"
     ]
    }
   ],
   "source": [
    "hist = model.fit(X_train, y_train, batch_size=200, epochs=1, validation_split=0.2)"
   ]
  },
  {
   "cell_type": "code",
   "execution_count": 7,
   "id": "7250d6cb",
   "metadata": {},
   "outputs": [
    {
     "name": "stdout",
     "output_type": "stream",
     "text": [
      "313/313 [==============================] - 2s 6ms/step - loss: 0.0708 - accuracy: 0.9797\n",
      "[0.07081109285354614, 0.9797000288963318]\n"
     ]
    }
   ],
   "source": [
    "score = model.evaluate(X_test, y_test)\n",
    "print(score)"
   ]
  },
  {
   "cell_type": "code",
   "execution_count": 9,
   "id": "d844de14",
   "metadata": {},
   "outputs": [
    {
     "data": {
      "text/plain": [
       "(5, 5, 1, 16)"
      ]
     },
     "execution_count": 9,
     "metadata": {},
     "output_type": "execute_result"
    }
   ],
   "source": [
    "'''\n",
    " Layer (type)                Output Shape              Param #   \n",
    "=================================================================\n",
    " conv2d (Conv2D)             (None, 24, 24, 16)        416       \n",
    "                                                                 \n",
    " max_pooling2d (MaxPooling2D  (None, 12, 12, 16)       0         \n",
    " )                                                               \n",
    "                                                                 \n",
    " conv2d_1 (Conv2D)           (None, 8, 8, 36)          14436     \n",
    "                                                                 \n",
    " flatten (Flatten)           (None, 2304)              0         \n",
    "                                                                 \n",
    " dense (Dense)               (None, 128)               295040    \n",
    "                                                                 \n",
    " dense_1 (Dense)             (None, 10)                1290      \n",
    "                                                                 \n",
    "=================================================================\n",
    "Total params: 311,182\n",
    "Trainable params: 311,182\n",
    "Non-trainable params: 0\n",
    "_________________________________________________________________\n",
    "'''\n",
    "\n",
    "l1 = model.get_layer('conv2d') # 이거 이름이 자꾸 바뀜\n",
    "# l1.get_weights()\n",
    "l1.get_weights()[0].shape # 첫번째 conv layer가 가지고 있는 weights의 갯수 (5, 5, 1, 16)\n",
    "\n",
    "# (16, 5, 5, 1) 형태로 변경해서 이미지 표현?\n",
    "\n"
   ]
  },
  {
   "cell_type": "code",
   "execution_count": 11,
   "id": "bd282a6e",
   "metadata": {},
   "outputs": [],
   "source": [
    "def plot_weight(w):\n",
    "    w_min = np.min(w)\n",
    "    w_max = np.max(w)\n",
    "    num_grid = math.ceil(math.sqrt(w.shape[3]))\n",
    "    fix, axis = plt.subplots(num_grid, num_grid)\n",
    "    for i, ax in enumerate(axis.flat):\n",
    "        if i < w.shape[3]:\n",
    "            img = w[:,:,0,i]\n",
    "            ax.imshow(img, vmin=w_min, vmax=w_max)\n",
    "        ax.set_xticks([])\n",
    "        ax.set_yticks([])\n",
    "\n",
    "    plt.show()\n",
    "    \n",
    "        "
   ]
  },
  {
   "cell_type": "code",
   "execution_count": 12,
   "id": "ab3aef06",
   "metadata": {},
   "outputs": [
    {
     "data": {
      "image/png": "[encoded data removed]",
      "text/plain": [
       "<Figure size 432x288 with 16 Axes>"
      ]
     },
     "metadata": {},
     "output_type": "display_data"
    }
   ],
   "source": [
    "\n",
    "l1 = model.get_layer('conv2d')\n",
    "w1 = l1.get_weights()[0]\n",
    "plot_weight(w1)\n"
   ]
  },
  {
   "cell_type": "code",
   "execution_count": 14,
   "id": "f3870cc0",
   "metadata": {},
   "outputs": [
    {
     "data": {
      "image/png": "[encoded data removed]",
      "text/plain": [
       "<Figure size 432x288 with 36 Axes>"
      ]
     },
     "metadata": {},
     "output_type": "display_data"
    }
   ],
   "source": [
    "l2 = model.get_layer('conv2d_1')\n",
    "w2 = l2.get_weights()[0]\n",
    "plot_weight(w2)"
   ]
  },
  {
   "cell_type": "code",
   "execution_count": 20,
   "id": "49ebe2c0",
   "metadata": {},
   "outputs": [
    {
     "name": "stdout",
     "output_type": "stream",
     "text": [
      "313/313 [==============================] - 2s 5ms/step\n"
     ]
    }
   ],
   "source": [
    "'''\n",
    " Layer (type)                Output Shape              Param #   \n",
    "=================================================================\n",
    " conv2d (Conv2D)             (None, 24, 24, 16)        416       \n",
    "                                                                 \n",
    " max_pooling2d (MaxPooling2D  (None, 12, 12, 16)       0         \n",
    " )                                                               \n",
    "                                                                 \n",
    " conv2d_1 (Conv2D)           (None, 8, 8, 36)          14436     \n",
    "                                                                 \n",
    " flatten (Flatten)           (None, 2304)              0         \n",
    "                                                                 \n",
    " dense (Dense)               (None, 128)               295040    \n",
    "                                                                 \n",
    " dense_1 (Dense)             (None, 10)                1290      \n",
    "                                                                 \n",
    "=================================================================\n",
    "Total params: 311,182\n",
    "Trainable params: 311,182\n",
    "Non-trainable params: 0\n",
    "_________________________________________________________________\n",
    "'''\n",
    "\n",
    "# temp_model = Model(inputs, outputs)\n",
    "# temp_model = Model(inputs=model.get_layer('conv2d').input, outputs=model.get_layer('conv2d').output)\n",
    "\n",
    "temp_model = Model(inputs=model.get_layer('conv2d').input, outputs=model.get_layer('conv2d_1').output)\n",
    "output = temp_model.predict(X_test)"
   ]
  },
  {
   "cell_type": "code",
   "execution_count": 17,
   "id": "bfd58f1e",
   "metadata": {},
   "outputs": [
    {
     "data": {
      "text/plain": [
       "(10000, 24, 24, 16)"
      ]
     },
     "execution_count": 17,
     "metadata": {},
     "output_type": "execute_result"
    }
   ],
   "source": [
    "output.shape"
   ]
  },
  {
   "cell_type": "code",
   "execution_count": 21,
   "id": "56e65304",
   "metadata": {},
   "outputs": [],
   "source": [
    "def plot_output(output):\n",
    "    num_grid = math.ceil(math.sqrt(output.shape[3]))\n",
    "    fix, axis = plt.subplots(num_grid, num_grid)\n",
    "    for i, ax in enumerate(axis.flat):\n",
    "        if i < output.shape[3]:\n",
    "            img = output[0,:,:,i]\n",
    "            ax.imshow(img, cmap='binary')\n",
    "        ax.set_xticks([])\n",
    "        ax.set_yticks([])\n",
    "\n",
    "    plt.show()\n",
    "    \n",
    "        "
   ]
  },
  {
   "cell_type": "code",
   "execution_count": 22,
   "id": "f7fae82f",
   "metadata": {},
   "outputs": [
    {
     "data": {
      "image/png": "[encoded data removed]",
      "text/plain": [
       "<Figure size 432x288 with 36 Axes>"
      ]
     },
     "metadata": {},
     "output_type": "display_data"
    }
   ],
   "source": [
    "plot_output(output)"
   ]
  }
 ],
 "metadata": {
  "kernelspec": {
   "display_name": "Python 3 (ipykernel)",
   "language": "python",
   "name": "python3"
  },
  "language_info": {
   "codemirror_mode": {
    "name": "ipython",
    "version": 3
   },
   "file_extension": ".py",
   "mimetype": "text/x-python",
   "name": "python",
   "nbconvert_exporter": "python",
   "pygments_lexer": "ipython3",
   "version": "3.8.16"
  }
 },
 "nbformat": 4,
 "nbformat_minor": 5
}
