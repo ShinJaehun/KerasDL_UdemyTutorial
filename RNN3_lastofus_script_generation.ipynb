{
 "cells": [
  {
   "cell_type": "code",
   "execution_count": 82,
   "id": "1b3b596b",
   "metadata": {},
   "outputs": [],
   "source": [
    "%matplotlib inline\n",
    "import matplotlib.pyplot as plt\n",
    "import numpy as np\n",
    "import pandas as pd\n",
    "from keras.layers import *\n",
    "from keras.models import *\n",
    "from keras.utils import *\n",
    "from sklearn.preprocessing import *\n",
    "from keras.preprocessing.text import Tokenizer\n",
    "from keras.utils import pad_sequences\n",
    "import random\n",
    "import re\n"
   ]
  },
  {
   "cell_type": "code",
   "execution_count": 83,
   "id": "5ed9a109",
   "metadata": {},
   "outputs": [],
   "source": [
    "file = 'lastofus.txt'\n",
    "text = ''\n",
    "array=[]\n",
    "with open(file) as f:\n",
    "    lines = f.readlines()\n",
    "#     for i in lines:\n",
    "#         print(i)    \n",
    "    text = text.join([l for l in lines if re.match(r'^[A-Z].*:', l)])\n",
    "\n",
    "# for t in text.split('\\n'):\n",
    "#     print(t)\n",
    "\n",
    "# for t in text.split('\\n'):\n",
    "#     array.append(t)\n",
    "# array\n",
    "\n",
    "for t in text.split('\\n')[:1000]:\n",
    "    array.append(t)\n",
    "# array"
   ]
  },
  {
   "cell_type": "code",
   "execution_count": 84,
   "id": "cb337e88",
   "metadata": {},
   "outputs": [],
   "source": [
    "token = Tokenizer(lower=False, filters='.,?;\\'\\\"-')\n",
    "token.fit_on_texts(array)"
   ]
  },
  {
   "cell_type": "code",
   "execution_count": 85,
   "id": "0813b7a3",
   "metadata": {},
   "outputs": [],
   "source": [
    "# token.word_index\n",
    "# len(token.word_index) # 1384\n",
    "\n",
    "seq = token.texts_to_sequences(array)\n",
    "# seq\n",
    "\n",
    "# (sample, timestamp, feature) timestamp 기준으로 문장 조절하기\n",
    "\n"
   ]
  },
  {
   "cell_type": "code",
   "execution_count": 86,
   "id": "c0b38aac",
   "metadata": {},
   "outputs": [
    {
     "data": {
      "text/plain": [
       "array([[ 130,  626,    8, ...,  627,  104,    3],\n",
       "       [   0,    0,    0, ...,    0,   17,   58],\n",
       "       [   0,    0,    0, ...,    0,    1,  628],\n",
       "       ...,\n",
       "       [  57, 1382,   22, ...,   21,   55,  418],\n",
       "       [   0,    0,    0, ...,    0,    7,  328],\n",
       "       [   0,    0,    0, ...,    1, 1384,    9]], dtype=int32)"
      ]
     },
     "execution_count": 86,
     "metadata": {},
     "output_type": "execute_result"
    }
   ],
   "source": [
    "seq = pad_sequences(seq, maxlen=10)\n",
    "seq"
   ]
  },
  {
   "cell_type": "code",
   "execution_count": 87,
   "id": "45bf9f09",
   "metadata": {},
   "outputs": [
    {
     "data": {
      "text/plain": [
       "array([[ 130,  626,    8, ...,  627,  104,    3],\n",
       "       [   0,    0,    0, ...,    0,   17,   58],\n",
       "       [   0,    0,    0, ...,    0,    1,  628],\n",
       "       ...,\n",
       "       [  57, 1382,   22, ...,   21,   55,  418],\n",
       "       [   0,    0,    0, ...,    0,    7,  328],\n",
       "       [   0,    0,    0, ...,    1, 1384,    9]], dtype=int32)"
      ]
     },
     "execution_count": 87,
     "metadata": {},
     "output_type": "execute_result"
    }
   ],
   "source": [
    "seq.shape # (1000, 10)\n",
    "X = seq\n",
    "X"
   ]
  },
  {
   "cell_type": "code",
   "execution_count": 88,
   "id": "c253f3db",
   "metadata": {},
   "outputs": [
    {
     "data": {
      "text/plain": [
       "array([[   0,    0,    0, ...,    0,   17,   58],\n",
       "       [   0,    0,    0, ...,    0,    1,  628],\n",
       "       [   0,    0,    0, ...,  111,  266,  331],\n",
       "       ...,\n",
       "       [   0,    0,    0, ...,    0,    7,  328],\n",
       "       [   0,    0,    0, ...,    1, 1384,    9],\n",
       "       [ 130,  626,    8, ...,  627,  104,    3]], dtype=int32)"
      ]
     },
     "execution_count": 88,
     "metadata": {},
     "output_type": "execute_result"
    }
   ],
   "source": [
    "Y = np.vstack((X[1:], X[0])) # 한 칸씩 올리고 맨 위에거는 맨 아래로 내려...\n",
    "Y"
   ]
  },
  {
   "cell_type": "code",
   "execution_count": 89,
   "id": "906a60b1",
   "metadata": {},
   "outputs": [
    {
     "data": {
      "text/plain": [
       "(1000, 10, 1)"
      ]
     },
     "execution_count": 89,
     "metadata": {},
     "output_type": "execute_result"
    }
   ],
   "source": [
    "X = X.reshape(-1, 10, 1)\n",
    "Y = Y.reshape(-1, 10, 1)\n",
    "X.shape # (1000, 10, 1)"
   ]
  },
  {
   "cell_type": "code",
   "execution_count": 90,
   "id": "5ef7d726",
   "metadata": {},
   "outputs": [
    {
     "data": {
      "text/plain": [
       "(1000, 10, 1385)"
      ]
     },
     "execution_count": 90,
     "metadata": {},
     "output_type": "execute_result"
    }
   ],
   "source": [
    "Y = to_categorical(Y)\n",
    "Y.shape # (1000, 10, 1385) 1385는 단어의 갯수... 1384 + 1(0부터 시작이니까...)"
   ]
  },
  {
   "cell_type": "code",
   "execution_count": 91,
   "id": "373c5623",
   "metadata": {},
   "outputs": [
    {
     "name": "stdout",
     "output_type": "stream",
     "text": [
      "Model: \"sequential_4\"\n",
      "_________________________________________________________________\n",
      " Layer (type)                Output Shape              Param #   \n",
      "=================================================================\n",
      " bidirectional_7 (Bidirectio  (None, 10, 256)          33280     \n",
      " nal)                                                            \n",
      "                                                                 \n",
      " bidirectional_8 (Bidirectio  (None, 10, 256)          98560     \n",
      " nal)                                                            \n",
      "                                                                 \n",
      " dense_3 (Dense)             (None, 10, 1385)          355945    \n",
      "                                                                 \n",
      "=================================================================\n",
      "Total params: 487,785\n",
      "Trainable params: 487,785\n",
      "Non-trainable params: 0\n",
      "_________________________________________________________________\n"
     ]
    }
   ],
   "source": [
    "'''\n",
    "-> -> ->\n",
    "\n",
    "Bidrectional을 적용하면 좀 더 효율적인 학습?\n",
    "-> -> ->\n",
    "<- <- <-\n",
    "'''\n",
    "\n",
    "model = Sequential()\n",
    "model.add(Bidirectional(SimpleRNN(128, return_sequences=True), input_shape=(10, 1)))\n",
    "model.add(Bidirectional(SimpleRNN(128, return_sequences=True)))\n",
    "model.add(Dense(1385, activation='softmax'))\n",
    "model.summary()\n",
    "model.compile(loss='categorical_crossentropy', optimizer='adam', metrics=['accuracy'])"
   ]
  },
  {
   "cell_type": "code",
   "execution_count": 92,
   "id": "bf8e446b",
   "metadata": {},
   "outputs": [
    {
     "name": "stdout",
     "output_type": "stream",
     "text": [
      "1000/1000 [==============================] - 13s 10ms/step - loss: 5.0057 - accuracy: 0.3235\n",
      "INFO:tensorflow:Assets written to: ddd/assets\n"
     ]
    }
   ],
   "source": [
    "model.fit(X, Y, epochs=1, batch_size=1)\n",
    "model.save('ddd')"
   ]
  },
  {
   "cell_type": "code",
   "execution_count": 93,
   "id": "9054d630",
   "metadata": {},
   "outputs": [],
   "source": [
    "model = load_model('ddd')"
   ]
  },
  {
   "cell_type": "code",
   "execution_count": 106,
   "id": "36cbe522",
   "metadata": {},
   "outputs": [
    {
     "name": "stdout",
     "output_type": "stream",
     "text": [
      "1/1 [==============================] - 0s 24ms/step\n"
     ]
    }
   ],
   "source": [
    "pred = model.predict(X[:1])\n",
    "# pred.shape"
   ]
  },
  {
   "cell_type": "code",
   "execution_count": 107,
   "id": "faf8b617",
   "metadata": {},
   "outputs": [
    {
     "data": {
      "text/plain": [
       "array([[  0,   0,   0,   0,   0,   0,   0,  39, 302, 685]])"
      ]
     },
     "execution_count": 107,
     "metadata": {},
     "output_type": "execute_result"
    }
   ],
   "source": [
    "# 역순으로 해주세요...\n",
    "pred = np.argmax(pred, axis=2) # 숫자로...\n",
    "pred\n",
    "# pred.shape # 1, 10"
   ]
  },
  {
   "cell_type": "code",
   "execution_count": 102,
   "id": "47cf58df",
   "metadata": {},
   "outputs": [],
   "source": [
    "idx_word = {}\n",
    "for w in token.word_index:\n",
    "    idx_word[token.word_index[w]] = w\n",
    "# idx_word # token의 key와 value 바꾸기"
   ]
  },
  {
   "cell_type": "code",
   "execution_count": 108,
   "id": "409c0722",
   "metadata": {},
   "outputs": [
    {
     "name": "stdout",
     "output_type": "stream",
     "text": [
      "for low minds \n"
     ]
    }
   ],
   "source": [
    "temp = ''\n",
    "for l in pred:\n",
    "    for w in l:\n",
    "#         print(w)\n",
    "        if w != 0:\n",
    "            temp += idx_word[w]\n",
    "            temp += ' '\n",
    "print(temp)"
   ]
  },
  {
   "cell_type": "code",
   "execution_count": 104,
   "id": "9381e99b",
   "metadata": {},
   "outputs": [
    {
     "name": "stdout",
     "output_type": "stream",
     "text": [
      "1/1 [==============================] - 0s 24ms/step\n",
      "Joel: Alright, watch your head. Hurry. Go, go, go. Shit...sonofa...\n",
      "\n",
      "\n",
      "\n",
      "\n",
      "the low time \n",
      "\n",
      "1/1 [==============================] - 0s 23ms/step\n",
      "Joel: They ain't spotted us yet, let's go around.\n",
      "\n",
      "\n",
      "\n",
      "\n",
      "a time \n",
      "\n",
      "1/1 [==============================] - 0s 28ms/step\n",
      "Tess: I was on my way back here, and I got jumped by these two assholes,\n",
      "\n",
      "\n",
      "\n",
      "\n",
      "of for time \n",
      "\n",
      "1/1 [==============================] - 0s 21ms/step\n",
      "Joel: Don't you think it's a bit strange that they're askin' us to do their\n",
      "\n",
      "\n",
      "\n",
      "\n",
      "a time \n",
      "\n",
      "1/1 [==============================] - 0s 25ms/step\n",
      "Ellie: There's so many of 'em out there. How are we supposed to get past 'em?\n",
      "\n",
      "\n",
      "\n",
      "\n",
      "a for low \n",
      "\n",
      "1/1 [==============================] - 0s 29ms/step\n",
      "Tess: I think I can handle it.\n",
      "\n",
      "\n",
      "\n",
      "\n",
      "a for minds \n",
      "\n",
      "1/1 [==============================] - 0s 25ms/step\n",
      "Tommy: Oh, this is bad. Everyone and their mother had the same damn idea.\n",
      "\n",
      "\n",
      "\n",
      "\n",
      "need for time \n",
      "\n",
      "1/1 [==============================] - 0s 26ms/step\n",
      "Joel: Shit, I see them.\n",
      "\n",
      "\n",
      "\n",
      "\n",
      "need time \n",
      "\n",
      "1/1 [==============================] - 0s 25ms/step\n",
      "Guard: They're running! Call for backup!\n",
      "\n",
      "\n",
      "\n",
      "\n",
      "this a time \n",
      "\n",
      "1/1 [==============================] - 0s 27ms/step\n",
      "Ellie: Define okay.\n",
      "\n",
      "\n",
      "\n",
      "\n",
      "Joel: for low \n",
      "\n"
     ]
    }
   ],
   "source": [
    "# 여기부터 좀 이해하기 어렵네...\n",
    "for i in range(10):\n",
    "    temp = ''\n",
    "    ran = random.randrange(0, len(X))\n",
    "    pred = model.predict(np.expand_dims(X[ran], axis=0))\n",
    "    \n",
    "    pred = np.argmax(pred, axis=2)\n",
    "    \n",
    "    for l in pred:\n",
    "        for w in l:\n",
    "            if w != 0:\n",
    "                temp += idx_word[w]\n",
    "                temp += ' '\n",
    "        temp += '\\n'\n",
    "    print(array[ran])     # 입력\n",
    "    print('\\n\\n\\n')\n",
    "    print(temp) # 출력\n",
    "    \n",
    "    "
   ]
  },
  {
   "cell_type": "code",
   "execution_count": null,
   "id": "ca0dfe8a",
   "metadata": {},
   "outputs": [],
   "source": []
  }
 ],
 "metadata": {
  "kernelspec": {
   "display_name": "Python 3 (ipykernel)",
   "language": "python",
   "name": "python3"
  },
  "language_info": {
   "codemirror_mode": {
    "name": "ipython",
    "version": 3
   },
   "file_extension": ".py",
   "mimetype": "text/x-python",
   "name": "python",
   "nbconvert_exporter": "python",
   "pygments_lexer": "ipython3",
   "version": "3.8.16"
  }
 },
 "nbformat": 4,
 "nbformat_minor": 5
}
